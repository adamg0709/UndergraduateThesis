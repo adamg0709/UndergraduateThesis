{
 "cells": [
  {
   "cell_type": "code",
   "execution_count": 1,
   "metadata": {},
   "outputs": [],
   "source": [
    "import tensorflow as tf\n",
    "from sklearn.metrics import mean_squared_error\n",
    "from keras.models import Sequential\n",
    "from keras.layers import Dense\n",
    "import numpy as np\n",
    "import numpy.random as npr"
   ]
  },
  {
   "cell_type": "markdown",
   "metadata": {},
   "source": [
    "This notebook trains that error approximating neural network using TensorFlow, then saves the weights and biases to another file."
   ]
  },
  {
   "cell_type": "code",
   "execution_count": 2,
   "metadata": {},
   "outputs": [],
   "source": [
    "# Function that must be approximated\n",
    "def analytic_error(a,y):\n",
    "    return 2*(a-y)*a*(1-a)"
   ]
  },
  {
   "cell_type": "code",
   "execution_count": 11,
   "metadata": {},
   "outputs": [
    {
     "name": "stdout",
     "output_type": "stream",
     "text": [
      "[[0.47955547 1.        ]\n",
      " [0.33375565 0.        ]\n",
      " [0.37626762 1.        ]\n",
      " [0.33194788 0.        ]\n",
      " [0.76723256 1.        ]\n",
      " [0.20412106 0.        ]\n",
      " [0.26462578 1.        ]\n",
      " [0.9886487  0.        ]\n",
      " [0.48649143 1.        ]\n",
      " [0.84340906 0.        ]]\n"
     ]
    }
   ],
   "source": [
    "# Create training data\n",
    "num_train = 1000000\n",
    "train_inputs = np.zeros((num_train,2))\n",
    "# Create training \"x\" values that tend towards 0 or 1\n",
    "train_inputs[:,0] = npr.uniform(0,1,num_train)\n",
    "for x in train_inputs[:,0]:\n",
    "    if (x<0.5):\n",
    "        x = x/2\n",
    "    else:\n",
    "        x = 0.5 + x/2\n",
    "# Create training \"y\" values that are either 0 or 1\n",
    "for i in range((int)(num_train/2)):\n",
    "    train_inputs[i*2,1] = 1\n",
    "# Create desired outcomes of training samples\n",
    "train_outputs = np.zeros(num_train)\n",
    "for i in range(num_train):\n",
    "    train_outputs[i] = analytic_error(train_inputs[i,0],train_inputs[i,1])\n",
    "\n",
    "# Create testing data\n",
    "num_test = 100\n",
    "test_inputs = np.zeros((num_test,2))\n",
    "# Create testing \"x\" values that tend towards 0 or 1\n",
    "test_inputs[:,0] = npr.uniform(-1,1,num_test)\n",
    "for x in test_inputs[:,0]:\n",
    "    if (x<0.5):\n",
    "        x = x/2\n",
    "    else:\n",
    "        x = 0.5 + x/2\n",
    "# Create testing \"y\" values that are wither 0 or 1\n",
    "for i in range((int)(num_test/2)):\n",
    "    test_inputs[i*2,1] = 1\n",
    "# Create desired outcomes of testing samples\n",
    "test_outputs = np.zeros(num_test)\n",
    "for i in range(num_test):\n",
    "    test_outputs[i] = analytic_error(test_inputs[i,0],test_inputs[i,1])\n",
    "\n",
    "print(train_inputs[0:10,:])"
   ]
  },
  {
   "cell_type": "code",
   "execution_count": 13,
   "metadata": {},
   "outputs": [
    {
     "name": "stdout",
     "output_type": "stream",
     "text": [
      "4/4 [==============================] - 0s 996us/step - loss: 1.6347\n"
     ]
    }
   ],
   "source": [
    "# Create feedforward neural network with 2 hidden layers with 20 nodes each, then train it with the generated data\n",
    "model = Sequential()\n",
    "model.add(Dense(20, input_dim=2, activation='sigmoid', kernel_initializer='he_uniform'))\n",
    "model.add(Dense(20, activation='sigmoid', kernel_initializer='he_uniform'))\n",
    "model.add(Dense(1))\n",
    "model.compile(loss='mse', optimizer='adam')\n",
    "model.fit(train_inputs, train_outputs, epochs=5, batch_size=16, verbose=0)\n",
    "predicted = model.evaluate(test_inputs,test_outputs)"
   ]
  },
  {
   "cell_type": "code",
   "execution_count": 14,
   "metadata": {},
   "outputs": [
    {
     "name": "stdout",
     "output_type": "stream",
     "text": [
      "WARNING:tensorflow:From c:\\users\\adamg\\anaconda3\\envs\\tf\\lib\\site-packages\\tensorflow\\python\\training\\tracking\\tracking.py:111: Model.state_updates (from tensorflow.python.keras.engine.training) is deprecated and will be removed in a future version.\n",
      "Instructions for updating:\n",
      "This property should not be used in TensorFlow 2.0, as updates are applied automatically.\n",
      "WARNING:tensorflow:From c:\\users\\adamg\\anaconda3\\envs\\tf\\lib\\site-packages\\tensorflow\\python\\training\\tracking\\tracking.py:111: Layer.updates (from tensorflow.python.keras.engine.base_layer) is deprecated and will be removed in a future version.\n",
      "Instructions for updating:\n",
      "This property should not be used in TensorFlow 2.0, as updates are applied automatically.\n",
      "INFO:tensorflow:Assets written to: C:\\Users\\adamg\\Documents\\455.Stuff\\DFA Simulations\\ErrorApproxModel\\assets\n"
     ]
    }
   ],
   "source": [
    "# Save the model to another file so that the weights and biases can be imported into another program\n",
    "filename = r\"C:\\Users\\adamg\\Documents\\455.Stuff\\DFA Simulations\\ErrorApproxModel\" # file should be in the same folder as \"Main\"\n",
    "model.save(filepath=filename, overwrite=True, save_format=None, options=None)"
   ]
  }
 ],
 "metadata": {
  "kernelspec": {
   "display_name": "Python 3",
   "language": "python",
   "name": "python3"
  },
  "language_info": {
   "codemirror_mode": {
    "name": "ipython",
    "version": 3
   },
   "file_extension": ".py",
   "mimetype": "text/x-python",
   "name": "python",
   "nbconvert_exporter": "python",
   "pygments_lexer": "ipython3",
   "version": "3.7.9"
  }
 },
 "nbformat": 4,
 "nbformat_minor": 2
}
